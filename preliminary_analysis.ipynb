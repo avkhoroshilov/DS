{
 "cells": [
  {
   "cell_type": "code",
   "execution_count": 146,
   "id": "b2909967",
   "metadata": {},
   "outputs": [],
   "source": [
    "import pandas as pd\n",
    "import matplotlib.pyplot as plt\n",
    "import seaborn as sns\n",
    "%matplotlib inline\n",
    "import warnings \n",
    "warnings.filterwarnings(\"ignore\")"
   ]
  },
  {
   "cell_type": "markdown",
   "id": "f06561e6",
   "metadata": {},
   "source": [
    "- Прочитаем данные"
   ]
  },
  {
   "cell_type": "code",
   "execution_count": 7,
   "id": "136fd019",
   "metadata": {},
   "outputs": [],
   "source": [
    "df=pd.read_excel('Analytic_test.xlsx', index_col=0, header=1)"
   ]
  },
  {
   "cell_type": "code",
   "execution_count": 18,
   "id": "79e7081b",
   "metadata": {},
   "outputs": [
    {
     "data": {
      "text/html": [
       "<div>\n",
       "<style scoped>\n",
       "    .dataframe tbody tr th:only-of-type {\n",
       "        vertical-align: middle;\n",
       "    }\n",
       "\n",
       "    .dataframe tbody tr th {\n",
       "        vertical-align: top;\n",
       "    }\n",
       "\n",
       "    .dataframe thead th {\n",
       "        text-align: right;\n",
       "    }\n",
       "</style>\n",
       "<table border=\"1\" class=\"dataframe\">\n",
       "  <thead>\n",
       "    <tr style=\"text-align: right;\">\n",
       "      <th></th>\n",
       "      <th>HID</th>\n",
       "      <th>active_Red</th>\n",
       "      <th>has_Green_id</th>\n",
       "      <th>has_Black_id</th>\n",
       "      <th>has_Blue_id</th>\n",
       "      <th>Blue_activity_count</th>\n",
       "      <th>Blue_gmv_total</th>\n",
       "      <th>Green_gvm_total</th>\n",
       "      <th>Green_gvm_order_count</th>\n",
       "      <th>Black_gvm_total</th>\n",
       "      <th>...</th>\n",
       "      <th>Blue_android</th>\n",
       "      <th>Red_apple</th>\n",
       "      <th>Green_apple</th>\n",
       "      <th>Black_apple</th>\n",
       "      <th>Blue_apple</th>\n",
       "      <th>is_msk</th>\n",
       "      <th>Red_web</th>\n",
       "      <th>Green_web</th>\n",
       "      <th>Black_web</th>\n",
       "      <th>Blue_web</th>\n",
       "    </tr>\n",
       "  </thead>\n",
       "  <tbody>\n",
       "    <tr>\n",
       "      <th>0</th>\n",
       "      <td>00003c7fb5e57ce673f1801f3679f5c25</td>\n",
       "      <td>0.0</td>\n",
       "      <td>0.0</td>\n",
       "      <td>0.0</td>\n",
       "      <td>1.0</td>\n",
       "      <td>2.0</td>\n",
       "      <td>0.0</td>\n",
       "      <td>0.0</td>\n",
       "      <td>0.0</td>\n",
       "      <td>0.0</td>\n",
       "      <td>...</td>\n",
       "      <td>0.0</td>\n",
       "      <td>0.0</td>\n",
       "      <td>0.0</td>\n",
       "      <td>0.0</td>\n",
       "      <td>0.0</td>\n",
       "      <td>0.0</td>\n",
       "      <td>0.0</td>\n",
       "      <td>0.0</td>\n",
       "      <td>0.0</td>\n",
       "      <td>0.0</td>\n",
       "    </tr>\n",
       "    <tr>\n",
       "      <th>1</th>\n",
       "      <td>00006b602533083e3bebfcbff08613931</td>\n",
       "      <td>1.0</td>\n",
       "      <td>0.0</td>\n",
       "      <td>0.0</td>\n",
       "      <td>0.0</td>\n",
       "      <td>0.0</td>\n",
       "      <td>0.0</td>\n",
       "      <td>0.0</td>\n",
       "      <td>0.0</td>\n",
       "      <td>0.0</td>\n",
       "      <td>...</td>\n",
       "      <td>0.0</td>\n",
       "      <td>0.0</td>\n",
       "      <td>0.0</td>\n",
       "      <td>0.0</td>\n",
       "      <td>0.0</td>\n",
       "      <td>0.0</td>\n",
       "      <td>1.0</td>\n",
       "      <td>0.0</td>\n",
       "      <td>0.0</td>\n",
       "      <td>0.0</td>\n",
       "    </tr>\n",
       "    <tr>\n",
       "      <th>2</th>\n",
       "      <td>0000736c3f76339196cb1cc759b8363b</td>\n",
       "      <td>1.0</td>\n",
       "      <td>0.0</td>\n",
       "      <td>0.0</td>\n",
       "      <td>0.0</td>\n",
       "      <td>0.0</td>\n",
       "      <td>0.0</td>\n",
       "      <td>0.0</td>\n",
       "      <td>0.0</td>\n",
       "      <td>0.0</td>\n",
       "      <td>...</td>\n",
       "      <td>0.0</td>\n",
       "      <td>1.0</td>\n",
       "      <td>0.0</td>\n",
       "      <td>1.0</td>\n",
       "      <td>0.0</td>\n",
       "      <td>0.0</td>\n",
       "      <td>0.0</td>\n",
       "      <td>0.0</td>\n",
       "      <td>0.0</td>\n",
       "      <td>0.0</td>\n",
       "    </tr>\n",
       "    <tr>\n",
       "      <th>3</th>\n",
       "      <td>00009bdcc5307b38efde8690b8bd658e</td>\n",
       "      <td>0.0</td>\n",
       "      <td>0.0</td>\n",
       "      <td>0.0</td>\n",
       "      <td>0.0</td>\n",
       "      <td>0.0</td>\n",
       "      <td>0.0</td>\n",
       "      <td>0.0</td>\n",
       "      <td>0.0</td>\n",
       "      <td>0.0</td>\n",
       "      <td>...</td>\n",
       "      <td>0.0</td>\n",
       "      <td>0.0</td>\n",
       "      <td>0.0</td>\n",
       "      <td>0.0</td>\n",
       "      <td>0.0</td>\n",
       "      <td>0.0</td>\n",
       "      <td>1.0</td>\n",
       "      <td>0.0</td>\n",
       "      <td>0.0</td>\n",
       "      <td>0.0</td>\n",
       "    </tr>\n",
       "    <tr>\n",
       "      <th>4</th>\n",
       "      <td>0000bc3186b7b31d9b35d3fbbb250b9f8</td>\n",
       "      <td>1.0</td>\n",
       "      <td>0.0</td>\n",
       "      <td>0.0</td>\n",
       "      <td>0.0</td>\n",
       "      <td>0.0</td>\n",
       "      <td>0.0</td>\n",
       "      <td>0.0</td>\n",
       "      <td>0.0</td>\n",
       "      <td>0.0</td>\n",
       "      <td>...</td>\n",
       "      <td>0.0</td>\n",
       "      <td>1.0</td>\n",
       "      <td>0.0</td>\n",
       "      <td>0.0</td>\n",
       "      <td>0.0</td>\n",
       "      <td>0.0</td>\n",
       "      <td>0.0</td>\n",
       "      <td>0.0</td>\n",
       "      <td>0.0</td>\n",
       "      <td>0.0</td>\n",
       "    </tr>\n",
       "  </tbody>\n",
       "</table>\n",
       "<p>5 rows × 24 columns</p>\n",
       "</div>"
      ],
      "text/plain": [
       "                                 HID  active_Red  has_Green_id  has_Black_id  \\\n",
       "0  00003c7fb5e57ce673f1801f3679f5c25         0.0           0.0           0.0   \n",
       "1  00006b602533083e3bebfcbff08613931         1.0           0.0           0.0   \n",
       "2   0000736c3f76339196cb1cc759b8363b         1.0           0.0           0.0   \n",
       "3   00009bdcc5307b38efde8690b8bd658e         0.0           0.0           0.0   \n",
       "4  0000bc3186b7b31d9b35d3fbbb250b9f8         1.0           0.0           0.0   \n",
       "\n",
       "   has_Blue_id Blue_activity_count  Blue_gmv_total  Green_gvm_total  \\\n",
       "0          1.0                 2.0             0.0              0.0   \n",
       "1          0.0                 0.0             0.0              0.0   \n",
       "2          0.0                 0.0             0.0              0.0   \n",
       "3          0.0                 0.0             0.0              0.0   \n",
       "4          0.0                 0.0             0.0              0.0   \n",
       "\n",
       "  Green_gvm_order_count  Black_gvm_total  ... Blue_android  Red_apple  \\\n",
       "0                   0.0              0.0  ...          0.0        0.0   \n",
       "1                   0.0              0.0  ...          0.0        0.0   \n",
       "2                   0.0              0.0  ...          0.0        1.0   \n",
       "3                   0.0              0.0  ...          0.0        0.0   \n",
       "4                   0.0              0.0  ...          0.0        1.0   \n",
       "\n",
       "   Green_apple  Black_apple  Blue_apple  is_msk  Red_web  Green_web  \\\n",
       "0          0.0          0.0         0.0     0.0      0.0        0.0   \n",
       "1          0.0          0.0         0.0     0.0      1.0        0.0   \n",
       "2          0.0          1.0         0.0     0.0      0.0        0.0   \n",
       "3          0.0          0.0         0.0     0.0      1.0        0.0   \n",
       "4          0.0          0.0         0.0     0.0      0.0        0.0   \n",
       "\n",
       "   Black_web  Blue_web  \n",
       "0        0.0       0.0  \n",
       "1        0.0       0.0  \n",
       "2        0.0       0.0  \n",
       "3        0.0       0.0  \n",
       "4        0.0       0.0  \n",
       "\n",
       "[5 rows x 24 columns]"
      ]
     },
     "execution_count": 18,
     "metadata": {},
     "output_type": "execute_result"
    }
   ],
   "source": [
    "df.head(5)"
   ]
  },
  {
   "cell_type": "code",
   "execution_count": 25,
   "id": "3b423bfa",
   "metadata": {},
   "outputs": [
    {
     "data": {
      "text/plain": [
       "(100000, 24)"
      ]
     },
     "execution_count": 25,
     "metadata": {},
     "output_type": "execute_result"
    }
   ],
   "source": [
    "df.shape"
   ]
  },
  {
   "cell_type": "markdown",
   "id": "2faf6727",
   "metadata": {},
   "source": [
    "### Подготовим данные"
   ]
  },
  {
   "cell_type": "markdown",
   "id": "08da304e",
   "metadata": {},
   "source": [
    "- Проверим на пропуски в данных"
   ]
  },
  {
   "cell_type": "code",
   "execution_count": 23,
   "id": "90abae84",
   "metadata": {},
   "outputs": [
    {
     "data": {
      "text/plain": [
       "HID                      0\n",
       "active_Red               0\n",
       "has_Green_id             0\n",
       "has_Black_id             0\n",
       "has_Blue_id              0\n",
       "Blue_activity_count      0\n",
       "Blue_gmv_total           1\n",
       "Green_gvm_total          0\n",
       "Green_gvm_order_count    0\n",
       "Black_gvm_total          0\n",
       "Black_gvm_order_count    0\n",
       "Red_android              0\n",
       "Green_android            0\n",
       "Black_android            0\n",
       "Blue_android             0\n",
       "Red_apple                0\n",
       "Green_apple              0\n",
       "Black_apple              0\n",
       "Blue_apple               0\n",
       "is_msk                   0\n",
       "Red_web                  0\n",
       "Green_web                0\n",
       "Black_web                0\n",
       "Blue_web                 0\n",
       "dtype: int64"
      ]
     },
     "execution_count": 23,
     "metadata": {},
     "output_type": "execute_result"
    }
   ],
   "source": [
    "df.isnull().sum()"
   ]
  },
  {
   "cell_type": "markdown",
   "id": "859113d5",
   "metadata": {},
   "source": [
    "- Пропусков есть, посмотрим еще на типы данных и если что исправим вместе"
   ]
  },
  {
   "cell_type": "markdown",
   "id": "aa428880",
   "metadata": {},
   "source": [
    "- Посмотрим на типы данных"
   ]
  },
  {
   "cell_type": "code",
   "execution_count": 97,
   "id": "e45d7c04",
   "metadata": {},
   "outputs": [
    {
     "name": "stdout",
     "output_type": "stream",
     "text": [
      "<class 'pandas.core.frame.DataFrame'>\n",
      "Int64Index: 100000 entries, 0 to 99999\n",
      "Data columns (total 24 columns):\n",
      " #   Column                 Non-Null Count   Dtype  \n",
      "---  ------                 --------------   -----  \n",
      " 0   HID                    100000 non-null  object \n",
      " 1   active_Red             100000 non-null  float64\n",
      " 2   has_Green_id           100000 non-null  float64\n",
      " 3   has_Black_id           100000 non-null  float64\n",
      " 4   has_Blue_id            100000 non-null  float64\n",
      " 5   Blue_activity_count    100000 non-null  object \n",
      " 6   Blue_gmv_total         99999 non-null   float64\n",
      " 7   Green_gvm_total        100000 non-null  float64\n",
      " 8   Green_gvm_order_count  100000 non-null  object \n",
      " 9   Black_gvm_total        100000 non-null  float64\n",
      " 10  Black_gvm_order_count  100000 non-null  object \n",
      " 11  Red_android            100000 non-null  float64\n",
      " 12  Green_android          100000 non-null  float64\n",
      " 13  Black_android          100000 non-null  float64\n",
      " 14  Blue_android           100000 non-null  float64\n",
      " 15  Red_apple              100000 non-null  float64\n",
      " 16  Green_apple            100000 non-null  float64\n",
      " 17  Black_apple            100000 non-null  float64\n",
      " 18  Blue_apple             100000 non-null  float64\n",
      " 19  is_msk                 100000 non-null  float64\n",
      " 20  Red_web                100000 non-null  float64\n",
      " 21  Green_web              100000 non-null  float64\n",
      " 22  Black_web              100000 non-null  float64\n",
      " 23  Blue_web               100000 non-null  float64\n",
      "dtypes: float64(20), object(4)\n",
      "memory usage: 19.1+ MB\n"
     ]
    }
   ],
   "source": [
    "df.info()"
   ]
  },
  {
   "cell_type": "markdown",
   "id": "0990b799",
   "metadata": {},
   "source": [
    "-  Blue_activity_count, Green_gvm_order_count, Black_gvm_order_count это все количества, поэтому тип должен быть вещественным, посмотрим какие значения там есть"
   ]
  },
  {
   "cell_type": "code",
   "execution_count": 98,
   "id": "d382872f",
   "metadata": {},
   "outputs": [
    {
     "data": {
      "text/plain": [
       "array(['2.0', '0.0', '1.0', '17.0', '13.0', '5.0', '6.0', '26.0', '8.0',\n",
       "       '4.0', '27.0', '19.0', '12.0', '9.0', '3.0', '20.0', '10.0',\n",
       "       '23.0', '7.0', '16.0', '14.0', '15.0', '53.0',\n",
       "       datetime.datetime(2019, 5, 4, 0, 0), '32.0', '11.0', '18.0',\n",
       "       '24.0', '119.0', '49.0', '39.0', '21.0',\n",
       "       datetime.datetime(2019, 5, 7, 0, 0), '35.0', '72.0', '30.0',\n",
       "       '71.0', '28.0', '42.0', '34.0', '41.0', '22.0', '29.0', '36.0',\n",
       "       '90.0', '40.0', '43.0', datetime.datetime(2019, 5, 1, 0, 0),\n",
       "       '51.0', '44.0', '25.0', '31.0', '45.0', '67.0', '33.0', '101.0',\n",
       "       '74.0', '46.0', '111.0', '66.0', '38.0', '63.0', '100.0', '237.0',\n",
       "       '59.0', datetime.datetime(2019, 5, 3, 0, 0),\n",
       "       datetime.datetime(2019, 5, 6, 0, 0), '37.0', '47.0'], dtype=object)"
      ]
     },
     "execution_count": 98,
     "metadata": {},
     "output_type": "execute_result"
    }
   ],
   "source": [
    "df.Blue_activity_count.unique()"
   ]
  },
  {
   "cell_type": "code",
   "execution_count": 99,
   "id": "d92ac245",
   "metadata": {},
   "outputs": [
    {
     "data": {
      "text/plain": [
       "array(['0.0', '2.0', '26.0', '5.0', '37.0', '3.0', '12.0', '7.0', '1.0',\n",
       "       '6.0', '8.0', datetime.datetime(2019, 5, 4, 0, 0), '4.0', '40.0',\n",
       "       '9.0', '22.0', '14.0', '15.0', '85.0', '25.0', '10.0', '20.0',\n",
       "       '18.0', '11.0', '31.0', '23.0', '39.0', '13.0', '42.0', '127.0',\n",
       "       '28.0', '101.0', '32.0', '30.0', '27.0', '51.0', '83.0', '36.0',\n",
       "       '16.0', '64.0', '19.0', '29.0', '24.0', '52.0', '82.0', '45.0',\n",
       "       '50.0', '62.0', '49.0', '21.0', '56.0', '65.0', '100.0', '76.0',\n",
       "       '88.0', '17.0', '69.0', '114.0', '35.0', '125.0', '38.0', '108.0',\n",
       "       '168.0', '84.0', '63.0', '75.0', '34.0', '78.0', '43.0', '60.0',\n",
       "       datetime.datetime(2019, 5, 2, 0, 0)], dtype=object)"
      ]
     },
     "execution_count": 99,
     "metadata": {},
     "output_type": "execute_result"
    }
   ],
   "source": [
    "df.Green_gvm_order_count.unique()"
   ]
  },
  {
   "cell_type": "code",
   "execution_count": 100,
   "id": "4fb198fa",
   "metadata": {},
   "outputs": [
    {
     "data": {
      "text/plain": [
       "array(['0.0', '1.0', '4.0', '2.0', '3.0', '5.0', '8.0', '25.0', '7.0',\n",
       "       '27.0', '6.0', '15.0', '9.0', '10.0', '50.0', '22.0', '13.0',\n",
       "       '12.0', '14.0', '16.0', '20.0', '26.0', '11.0', '18.0', '21.0',\n",
       "       datetime.datetime(2019, 5, 2, 0, 0), '19.0', '37.0', '33.0',\n",
       "       '17.0', '35.0', '29.0', '51.0', '23.0', '42.0', '60.0', '34.0',\n",
       "       '36.0', datetime.datetime(2019, 5, 6, 0, 0)], dtype=object)"
      ]
     },
     "execution_count": 100,
     "metadata": {},
     "output_type": "execute_result"
    }
   ],
   "source": [
    "df.Black_gvm_order_count.unique()"
   ]
  },
  {
   "cell_type": "markdown",
   "id": "752f477e",
   "metadata": {},
   "source": [
    "- В этих столбцах присутствуют ошибки, в каждом содержится дата, уберем их"
   ]
  },
  {
   "cell_type": "code",
   "execution_count": 106,
   "id": "7b4ad800",
   "metadata": {},
   "outputs": [],
   "source": [
    "df.Blue_activity_count=pd.to_numeric(df.Blue_activity_count, errors='coerce')\n",
    "df.Green_gvm_order_count=pd.to_numeric(df.Green_gvm_order_count, errors='coerce')\n",
    "df.Black_gvm_order_count=pd.to_numeric(df.Black_gvm_order_count, errors='coerce')\n",
    "df=df.dropna()"
   ]
  },
  {
   "cell_type": "markdown",
   "id": "6a48bc80",
   "metadata": {},
   "source": [
    "- Посмторим еще раз"
   ]
  },
  {
   "cell_type": "code",
   "execution_count": 108,
   "id": "c7333960",
   "metadata": {},
   "outputs": [
    {
     "name": "stdout",
     "output_type": "stream",
     "text": [
      "<class 'pandas.core.frame.DataFrame'>\n",
      "Int64Index: 99986 entries, 0 to 99999\n",
      "Data columns (total 24 columns):\n",
      " #   Column                 Non-Null Count  Dtype  \n",
      "---  ------                 --------------  -----  \n",
      " 0   HID                    99986 non-null  object \n",
      " 1   active_Red             99986 non-null  float64\n",
      " 2   has_Green_id           99986 non-null  float64\n",
      " 3   has_Black_id           99986 non-null  float64\n",
      " 4   has_Blue_id            99986 non-null  float64\n",
      " 5   Blue_activity_count    99986 non-null  float64\n",
      " 6   Blue_gmv_total         99986 non-null  float64\n",
      " 7   Green_gvm_total        99986 non-null  float64\n",
      " 8   Green_gvm_order_count  99986 non-null  float64\n",
      " 9   Black_gvm_total        99986 non-null  float64\n",
      " 10  Black_gvm_order_count  99986 non-null  float64\n",
      " 11  Red_android            99986 non-null  float64\n",
      " 12  Green_android          99986 non-null  float64\n",
      " 13  Black_android          99986 non-null  float64\n",
      " 14  Blue_android           99986 non-null  float64\n",
      " 15  Red_apple              99986 non-null  float64\n",
      " 16  Green_apple            99986 non-null  float64\n",
      " 17  Black_apple            99986 non-null  float64\n",
      " 18  Blue_apple             99986 non-null  float64\n",
      " 19  is_msk                 99986 non-null  float64\n",
      " 20  Red_web                99986 non-null  float64\n",
      " 21  Green_web              99986 non-null  float64\n",
      " 22  Black_web              99986 non-null  float64\n",
      " 23  Blue_web               99986 non-null  float64\n",
      "dtypes: float64(23), object(1)\n",
      "memory usage: 19.1+ MB\n"
     ]
    }
   ],
   "source": [
    "df.info()"
   ]
  },
  {
   "cell_type": "code",
   "execution_count": 112,
   "id": "eae7e4d5",
   "metadata": {},
   "outputs": [
    {
     "data": {
      "text/plain": [
       "0"
      ]
     },
     "execution_count": 112,
     "metadata": {},
     "output_type": "execute_result"
    }
   ],
   "source": [
    "df.isnull().sum().sum()"
   ]
  },
  {
   "cell_type": "markdown",
   "id": "6aafe93d",
   "metadata": {},
   "source": [
    "- Мы исправили ошибки в данных и убрали пропуски"
   ]
  },
  {
   "cell_type": "markdown",
   "id": "329b029b",
   "metadata": {},
   "source": [
    "### Вычисления "
   ]
  },
  {
   "cell_type": "markdown",
   "id": "bf12a0c5",
   "metadata": {},
   "source": [
    "- Описательные статистики"
   ]
  },
  {
   "cell_type": "code",
   "execution_count": 119,
   "id": "b84b2a0a",
   "metadata": {},
   "outputs": [
    {
     "data": {
      "text/html": [
       "<div>\n",
       "<style scoped>\n",
       "    .dataframe tbody tr th:only-of-type {\n",
       "        vertical-align: middle;\n",
       "    }\n",
       "\n",
       "    .dataframe tbody tr th {\n",
       "        vertical-align: top;\n",
       "    }\n",
       "\n",
       "    .dataframe thead th {\n",
       "        text-align: right;\n",
       "    }\n",
       "</style>\n",
       "<table border=\"1\" class=\"dataframe\">\n",
       "  <thead>\n",
       "    <tr style=\"text-align: right;\">\n",
       "      <th></th>\n",
       "      <th>active_Red</th>\n",
       "      <th>has_Green_id</th>\n",
       "      <th>has_Black_id</th>\n",
       "      <th>has_Blue_id</th>\n",
       "      <th>Blue_activity_count</th>\n",
       "      <th>Blue_gmv_total</th>\n",
       "      <th>Green_gvm_total</th>\n",
       "      <th>Green_gvm_order_count</th>\n",
       "      <th>Black_gvm_total</th>\n",
       "      <th>Black_gvm_order_count</th>\n",
       "      <th>...</th>\n",
       "      <th>Blue_android</th>\n",
       "      <th>Red_apple</th>\n",
       "      <th>Green_apple</th>\n",
       "      <th>Black_apple</th>\n",
       "      <th>Blue_apple</th>\n",
       "      <th>is_msk</th>\n",
       "      <th>Red_web</th>\n",
       "      <th>Green_web</th>\n",
       "      <th>Black_web</th>\n",
       "      <th>Blue_web</th>\n",
       "    </tr>\n",
       "  </thead>\n",
       "  <tbody>\n",
       "    <tr>\n",
       "      <th>count</th>\n",
       "      <td>99986.000000</td>\n",
       "      <td>99986.000000</td>\n",
       "      <td>99986.000000</td>\n",
       "      <td>99986.000000</td>\n",
       "      <td>99986.000000</td>\n",
       "      <td>99986.000000</td>\n",
       "      <td>99986.000000</td>\n",
       "      <td>99986.000000</td>\n",
       "      <td>99986.000000</td>\n",
       "      <td>99986.000000</td>\n",
       "      <td>...</td>\n",
       "      <td>99986.000000</td>\n",
       "      <td>99986.000000</td>\n",
       "      <td>99986.000000</td>\n",
       "      <td>99986.000000</td>\n",
       "      <td>99986.000000</td>\n",
       "      <td>99986.000000</td>\n",
       "      <td>99986.000000</td>\n",
       "      <td>99986.000000</td>\n",
       "      <td>99986.000000</td>\n",
       "      <td>99986.000000</td>\n",
       "    </tr>\n",
       "    <tr>\n",
       "      <th>mean</th>\n",
       "      <td>0.558718</td>\n",
       "      <td>0.008831</td>\n",
       "      <td>0.010782</td>\n",
       "      <td>0.137779</td>\n",
       "      <td>0.210039</td>\n",
       "      <td>2.461325</td>\n",
       "      <td>59.839177</td>\n",
       "      <td>0.076991</td>\n",
       "      <td>94.695457</td>\n",
       "      <td>0.043856</td>\n",
       "      <td>...</td>\n",
       "      <td>0.080421</td>\n",
       "      <td>0.108745</td>\n",
       "      <td>0.006161</td>\n",
       "      <td>0.017822</td>\n",
       "      <td>0.046457</td>\n",
       "      <td>0.119177</td>\n",
       "      <td>0.671044</td>\n",
       "      <td>0.001980</td>\n",
       "      <td>0.014582</td>\n",
       "      <td>0.106325</td>\n",
       "    </tr>\n",
       "    <tr>\n",
       "      <th>std</th>\n",
       "      <td>0.496543</td>\n",
       "      <td>0.093666</td>\n",
       "      <td>0.103467</td>\n",
       "      <td>0.359915</td>\n",
       "      <td>2.099500</td>\n",
       "      <td>126.682942</td>\n",
       "      <td>1230.627532</td>\n",
       "      <td>1.693890</td>\n",
       "      <td>1699.044593</td>\n",
       "      <td>0.749914</td>\n",
       "      <td>...</td>\n",
       "      <td>0.271946</td>\n",
       "      <td>0.311321</td>\n",
       "      <td>0.078249</td>\n",
       "      <td>0.132307</td>\n",
       "      <td>0.210473</td>\n",
       "      <td>0.323998</td>\n",
       "      <td>0.469836</td>\n",
       "      <td>0.044456</td>\n",
       "      <td>0.119873</td>\n",
       "      <td>0.308255</td>\n",
       "    </tr>\n",
       "    <tr>\n",
       "      <th>min</th>\n",
       "      <td>0.000000</td>\n",
       "      <td>0.000000</td>\n",
       "      <td>0.000000</td>\n",
       "      <td>0.000000</td>\n",
       "      <td>0.000000</td>\n",
       "      <td>0.000000</td>\n",
       "      <td>0.000000</td>\n",
       "      <td>0.000000</td>\n",
       "      <td>0.000000</td>\n",
       "      <td>0.000000</td>\n",
       "      <td>...</td>\n",
       "      <td>0.000000</td>\n",
       "      <td>0.000000</td>\n",
       "      <td>0.000000</td>\n",
       "      <td>0.000000</td>\n",
       "      <td>0.000000</td>\n",
       "      <td>0.000000</td>\n",
       "      <td>0.000000</td>\n",
       "      <td>0.000000</td>\n",
       "      <td>0.000000</td>\n",
       "      <td>0.000000</td>\n",
       "    </tr>\n",
       "    <tr>\n",
       "      <th>25%</th>\n",
       "      <td>0.000000</td>\n",
       "      <td>0.000000</td>\n",
       "      <td>0.000000</td>\n",
       "      <td>0.000000</td>\n",
       "      <td>0.000000</td>\n",
       "      <td>0.000000</td>\n",
       "      <td>0.000000</td>\n",
       "      <td>0.000000</td>\n",
       "      <td>0.000000</td>\n",
       "      <td>0.000000</td>\n",
       "      <td>...</td>\n",
       "      <td>0.000000</td>\n",
       "      <td>0.000000</td>\n",
       "      <td>0.000000</td>\n",
       "      <td>0.000000</td>\n",
       "      <td>0.000000</td>\n",
       "      <td>0.000000</td>\n",
       "      <td>0.000000</td>\n",
       "      <td>0.000000</td>\n",
       "      <td>0.000000</td>\n",
       "      <td>0.000000</td>\n",
       "    </tr>\n",
       "    <tr>\n",
       "      <th>50%</th>\n",
       "      <td>1.000000</td>\n",
       "      <td>0.000000</td>\n",
       "      <td>0.000000</td>\n",
       "      <td>0.000000</td>\n",
       "      <td>0.000000</td>\n",
       "      <td>0.000000</td>\n",
       "      <td>0.000000</td>\n",
       "      <td>0.000000</td>\n",
       "      <td>0.000000</td>\n",
       "      <td>0.000000</td>\n",
       "      <td>...</td>\n",
       "      <td>0.000000</td>\n",
       "      <td>0.000000</td>\n",
       "      <td>0.000000</td>\n",
       "      <td>0.000000</td>\n",
       "      <td>0.000000</td>\n",
       "      <td>0.000000</td>\n",
       "      <td>1.000000</td>\n",
       "      <td>0.000000</td>\n",
       "      <td>0.000000</td>\n",
       "      <td>0.000000</td>\n",
       "    </tr>\n",
       "    <tr>\n",
       "      <th>75%</th>\n",
       "      <td>1.000000</td>\n",
       "      <td>0.000000</td>\n",
       "      <td>0.000000</td>\n",
       "      <td>0.000000</td>\n",
       "      <td>0.000000</td>\n",
       "      <td>0.000000</td>\n",
       "      <td>0.000000</td>\n",
       "      <td>0.000000</td>\n",
       "      <td>0.000000</td>\n",
       "      <td>0.000000</td>\n",
       "      <td>...</td>\n",
       "      <td>0.000000</td>\n",
       "      <td>0.000000</td>\n",
       "      <td>0.000000</td>\n",
       "      <td>0.000000</td>\n",
       "      <td>0.000000</td>\n",
       "      <td>0.000000</td>\n",
       "      <td>1.000000</td>\n",
       "      <td>0.000000</td>\n",
       "      <td>0.000000</td>\n",
       "      <td>0.000000</td>\n",
       "    </tr>\n",
       "    <tr>\n",
       "      <th>max</th>\n",
       "      <td>1.000000</td>\n",
       "      <td>2.000000</td>\n",
       "      <td>2.000000</td>\n",
       "      <td>4.000000</td>\n",
       "      <td>237.000000</td>\n",
       "      <td>32302.000000</td>\n",
       "      <td>94106.000000</td>\n",
       "      <td>168.000000</td>\n",
       "      <td>188252.000000</td>\n",
       "      <td>60.000000</td>\n",
       "      <td>...</td>\n",
       "      <td>1.000000</td>\n",
       "      <td>1.000000</td>\n",
       "      <td>1.000000</td>\n",
       "      <td>1.000000</td>\n",
       "      <td>1.000000</td>\n",
       "      <td>1.000000</td>\n",
       "      <td>1.000000</td>\n",
       "      <td>1.000000</td>\n",
       "      <td>1.000000</td>\n",
       "      <td>1.000000</td>\n",
       "    </tr>\n",
       "  </tbody>\n",
       "</table>\n",
       "<p>8 rows × 23 columns</p>\n",
       "</div>"
      ],
      "text/plain": [
       "         active_Red  has_Green_id  has_Black_id   has_Blue_id  \\\n",
       "count  99986.000000  99986.000000  99986.000000  99986.000000   \n",
       "mean       0.558718      0.008831      0.010782      0.137779   \n",
       "std        0.496543      0.093666      0.103467      0.359915   \n",
       "min        0.000000      0.000000      0.000000      0.000000   \n",
       "25%        0.000000      0.000000      0.000000      0.000000   \n",
       "50%        1.000000      0.000000      0.000000      0.000000   \n",
       "75%        1.000000      0.000000      0.000000      0.000000   \n",
       "max        1.000000      2.000000      2.000000      4.000000   \n",
       "\n",
       "       Blue_activity_count  Blue_gmv_total  Green_gvm_total  \\\n",
       "count         99986.000000    99986.000000     99986.000000   \n",
       "mean              0.210039        2.461325        59.839177   \n",
       "std               2.099500      126.682942      1230.627532   \n",
       "min               0.000000        0.000000         0.000000   \n",
       "25%               0.000000        0.000000         0.000000   \n",
       "50%               0.000000        0.000000         0.000000   \n",
       "75%               0.000000        0.000000         0.000000   \n",
       "max             237.000000    32302.000000     94106.000000   \n",
       "\n",
       "       Green_gvm_order_count  Black_gvm_total  Black_gvm_order_count  ...  \\\n",
       "count           99986.000000     99986.000000           99986.000000  ...   \n",
       "mean                0.076991        94.695457               0.043856  ...   \n",
       "std                 1.693890      1699.044593               0.749914  ...   \n",
       "min                 0.000000         0.000000               0.000000  ...   \n",
       "25%                 0.000000         0.000000               0.000000  ...   \n",
       "50%                 0.000000         0.000000               0.000000  ...   \n",
       "75%                 0.000000         0.000000               0.000000  ...   \n",
       "max               168.000000    188252.000000              60.000000  ...   \n",
       "\n",
       "       Blue_android     Red_apple   Green_apple   Black_apple    Blue_apple  \\\n",
       "count  99986.000000  99986.000000  99986.000000  99986.000000  99986.000000   \n",
       "mean       0.080421      0.108745      0.006161      0.017822      0.046457   \n",
       "std        0.271946      0.311321      0.078249      0.132307      0.210473   \n",
       "min        0.000000      0.000000      0.000000      0.000000      0.000000   \n",
       "25%        0.000000      0.000000      0.000000      0.000000      0.000000   \n",
       "50%        0.000000      0.000000      0.000000      0.000000      0.000000   \n",
       "75%        0.000000      0.000000      0.000000      0.000000      0.000000   \n",
       "max        1.000000      1.000000      1.000000      1.000000      1.000000   \n",
       "\n",
       "             is_msk       Red_web     Green_web     Black_web      Blue_web  \n",
       "count  99986.000000  99986.000000  99986.000000  99986.000000  99986.000000  \n",
       "mean       0.119177      0.671044      0.001980      0.014582      0.106325  \n",
       "std        0.323998      0.469836      0.044456      0.119873      0.308255  \n",
       "min        0.000000      0.000000      0.000000      0.000000      0.000000  \n",
       "25%        0.000000      0.000000      0.000000      0.000000      0.000000  \n",
       "50%        0.000000      1.000000      0.000000      0.000000      0.000000  \n",
       "75%        0.000000      1.000000      0.000000      0.000000      0.000000  \n",
       "max        1.000000      1.000000      1.000000      1.000000      1.000000  \n",
       "\n",
       "[8 rows x 23 columns]"
      ]
     },
     "execution_count": 119,
     "metadata": {},
     "output_type": "execute_result"
    }
   ],
   "source": [
    "df.describe()"
   ]
  },
  {
   "cell_type": "markdown",
   "id": "c51de99a",
   "metadata": {},
   "source": [
    "- Признаков слишком сразу сказать что-то сложно, нужно выдвигать гипотезы и точечно делать анализ"
   ]
  },
  {
   "cell_type": "markdown",
   "id": "a01d64f6",
   "metadata": {},
   "source": [
    "- Посмотрим на 3 самых сильных корреляций "
   ]
  },
  {
   "cell_type": "code",
   "execution_count": 123,
   "id": "9593ed5a",
   "metadata": {},
   "outputs": [
    {
     "data": {
      "text/html": [
       "<div>\n",
       "<style scoped>\n",
       "    .dataframe tbody tr th:only-of-type {\n",
       "        vertical-align: middle;\n",
       "    }\n",
       "\n",
       "    .dataframe tbody tr th {\n",
       "        vertical-align: top;\n",
       "    }\n",
       "\n",
       "    .dataframe thead th {\n",
       "        text-align: right;\n",
       "    }\n",
       "</style>\n",
       "<table border=\"1\" class=\"dataframe\">\n",
       "  <thead>\n",
       "    <tr style=\"text-align: right;\">\n",
       "      <th></th>\n",
       "      <th>level_0</th>\n",
       "      <th>level_1</th>\n",
       "      <th>0</th>\n",
       "    </tr>\n",
       "  </thead>\n",
       "  <tbody>\n",
       "    <tr>\n",
       "      <th>1</th>\n",
       "      <td>Green_gvm_total</td>\n",
       "      <td>Green_gvm_order_count</td>\n",
       "      <td>0.955045</td>\n",
       "    </tr>\n",
       "    <tr>\n",
       "      <th>2</th>\n",
       "      <td>Black_gvm_total</td>\n",
       "      <td>Black_gvm_order_count</td>\n",
       "      <td>0.913995</td>\n",
       "    </tr>\n",
       "    <tr>\n",
       "      <th>3</th>\n",
       "      <td>Blue_apple</td>\n",
       "      <td>Red_apple</td>\n",
       "      <td>0.607021</td>\n",
       "    </tr>\n",
       "  </tbody>\n",
       "</table>\n",
       "</div>"
      ],
      "text/plain": [
       "           level_0                level_1         0\n",
       "1  Green_gvm_total  Green_gvm_order_count  0.955045\n",
       "2  Black_gvm_total  Black_gvm_order_count  0.913995\n",
       "3       Blue_apple              Red_apple  0.607021"
      ]
     },
     "execution_count": 123,
     "metadata": {},
     "output_type": "execute_result"
    }
   ],
   "source": [
    "a=df.corr().unstack().sort_values(ascending=False).drop_duplicates().to_frame().reset_index()\n",
    "a=a[a.level_0!=a.level_1]\n",
    "a.head(3)"
   ]
  },
  {
   "cell_type": "markdown",
   "id": "4fb737ca",
   "metadata": {},
   "source": [
    "- Логично что есть линейная зависимость между суммарным gvm пользователя в сервисе и количеством успешных заказов у green и black компаний, так как чем пользователь проводит больше времени тем больше он разбирается и знает чего хочет.\n",
    "- Также у blue и red компаний небольшая линейная зависимость при установке на платформе apple, воможно они проводили коллабарацию или услиги этих компаний взаимозаменяемы"
   ]
  },
  {
   "cell_type": "markdown",
   "id": "55c5f969",
   "metadata": {},
   "source": [
    "- Я заметил, что в 4 компаниях разное колличество признаков, и некоторые признаки отличаются, но у всех 4 есть три одинаковых признака, поэтому сравнивать компании можно только при помощи них. Эти признаки: company_android, company_apple, company_web"
   ]
  },
  {
   "cell_type": "markdown",
   "id": "4b886eed",
   "metadata": {},
   "source": [
    "**Посмотрим у какой компании наибольшее число пользователей**"
   ]
  },
  {
   "cell_type": "code",
   "execution_count": 172,
   "id": "07ac47a3",
   "metadata": {},
   "outputs": [
    {
     "data": {
      "image/png": "[encoded data removed]",
      "text/plain": [
       "<Figure size 1800x700 with 1 Axes>"
      ]
     },
     "metadata": {},
     "output_type": "display_data"
    }
   ],
   "source": [
    "users_black=df.Black_android.sum()+df.Black_apple.sum()+df.Black_web.sum()\n",
    "users_green=df.Green_android.sum()+df.Green_apple.sum()+df.Green_web.sum()\n",
    "users_blue=df.Blue_android.sum()+df.Blue_apple.sum()+df.Blue_web.sum()\n",
    "users_red=df.Red_android.sum()+df.Red_apple.sum()+df.Red_web.sum()\n",
    "\n",
    "data={'company':['black', 'green', 'blue', 'red'], 'users': [users_black, users_green, users_blue, users_red]}\n",
    "df1=pd.DataFrame(data)\n",
    "df1=df1.sort_values(by='users')\n",
    "\n",
    "plt.figure(figsize = [18, 7])\n",
    "plt.bar(df1['company'], df1['users'], color = '#24c8c7')\n",
    "\n",
    "for i in range(df1['users'].shape[0]):\n",
    "    plt.text(\n",
    "        i, \n",
    "        df1['users'].iloc[i] / 2,\n",
    "        df1['users'].iloc[i], \n",
    "        ha = 'center'\n",
    "    )\n",
    "\n",
    "plt.ylabel('Количество пользователей')\n",
    "plt.xlabel('Компания')\n",
    "plt.title('Количество пользователей на всех устройствах в разных компаниях')\n",
    "plt.show()"
   ]
  },
  {
   "cell_type": "markdown",
   "id": "cc5f79e5",
   "metadata": {},
   "source": [
    "- Как видно из графика, наибольшее число пользователей (с большим отрывом) у компании Red, а самое меньшее у green"
   ]
  },
  {
   "cell_type": "markdown",
   "id": "d3deeb93",
   "metadata": {},
   "source": [
    "- Посмотрим с каких устройств сидят пользователи в компании Red"
   ]
  },
  {
   "cell_type": "code",
   "execution_count": 152,
   "id": "86676439",
   "metadata": {},
   "outputs": [
    {
     "data": {
      "image/png": "[encoded data removed]",
      "text/plain": [
       "<Figure size 700x700 with 1 Axes>"
      ]
     },
     "metadata": {},
     "output_type": "display_data"
    }
   ],
   "source": [
    "apple=df.Red_apple.sum()\n",
    "android=df.Red_android.sum()\n",
    "web=df.Red_web.sum()\n",
    "\n",
    "data={'device':['apple', 'android', 'web'], 'users': [apple, android, web]}\n",
    "df1=pd.DataFrame(data)\n",
    "df1=df1.sort_values(by='users')\n",
    "\n",
    "\n",
    "plt.figure(figsize = [7, 7])\n",
    "plt.pie(\n",
    "    x = df1['users'],\n",
    "    labels = df1['device'],\n",
    "    explode = [0, 0, 0.1], \n",
    "    autopct = '%1.2f%%',\n",
    "    pctdistance = 0.6,\n",
    "    labeldistance = 1.1,\n",
    ")\n",
    "\n",
    "plt.title('Процент устройств с которых сидят пользователи в компании Red')\n",
    "plt.show()"
   ]
  },
  {
   "cell_type": "markdown",
   "id": "2d7614fc",
   "metadata": {},
   "source": [
    "**Вывод :** Как видно из диаграммы, у компании у которой больше всего пользователей (скорее всего ведущая на рынке) большинство всего пользователей предпочитают сидеть с ПК, значит более выгоднее развивать этот сегмент, так как люди не покупают технику лишь бы скачать приложение это, поэтому выгоднее работать сразу с большой аудиторией. Жалко нет столба с количеством активных действий пользователя в системе, можно было бы узнать является ли эта аудитория реальной или нет. (в данных есть столбец active_Red, но в задании нет его описания а тип данных в нем бинарный, так что точно не количество активных действий)"
   ]
  },
  {
   "cell_type": "markdown",
   "id": "c679a511",
   "metadata": {},
   "source": [
    "- Также посмотрим на компанию green"
   ]
  },
  {
   "cell_type": "code",
   "execution_count": 155,
   "id": "63394035",
   "metadata": {},
   "outputs": [
    {
     "data": {
      "image/png": "[encoded data removed]",
      "text/plain": [
       "<Figure size 700x700 with 1 Axes>"
      ]
     },
     "metadata": {},
     "output_type": "display_data"
    }
   ],
   "source": [
    "apple=df.Green_apple.sum()\n",
    "android=df.Green_android.sum()\n",
    "web=df.Green_web.sum()\n",
    "\n",
    "data={'device':['apple', 'android', 'web'], 'users': [apple, android, web]}\n",
    "df1=pd.DataFrame(data)\n",
    "df1=df1.sort_values(by='users')\n",
    "\n",
    "\n",
    "plt.figure(figsize = [7, 7])\n",
    "plt.pie(\n",
    "    x = df1['users'],\n",
    "    labels = df1['device'],\n",
    "    explode = [0, 0, 0.1], \n",
    "    autopct = '%1.2f%%',\n",
    "    pctdistance = 0.6,\n",
    "    labeldistance = 1.1,\n",
    ")\n",
    "\n",
    "plt.title('Процент устройств с которых сидят пользователи в компании Green')\n",
    "plt.show()"
   ]
  },
  {
   "cell_type": "markdown",
   "id": "35c71d49",
   "metadata": {},
   "source": [
    "**Вывод :** Как видно из диаграммы, у компании у которой меньше всего пользователей (скорее всего самая молодая компания на рынке) большинство пользователей предпочитают сидеть с телефонов, значит нужно развивать в первую очередь приложения для телефонов, чтобы получить определенную популярность в этом сегменте и переходить к пк версии"
   ]
  },
  {
   "cell_type": "markdown",
   "id": "177ef60f",
   "metadata": {},
   "source": [
    "- Разберемеся в компании green получше, у нее и у black есть одинаковый признак: количество успешных заказов. А так как эти две компании по количеству пользователей отличаются на 3000 (меньше чем в других), то сравним их по этому признаку"
   ]
  },
  {
   "cell_type": "code",
   "execution_count": 174,
   "id": "7db7f1c8",
   "metadata": {},
   "outputs": [
    {
     "data": {
      "image/png": "[encoded data removed]",
      "text/plain": [
       "<Figure size 640x480 with 1 Axes>"
      ]
     },
     "metadata": {},
     "output_type": "display_data"
    }
   ],
   "source": [
    "Green=df.Green_gvm_order_count.sum()\n",
    "Black=df.Black_gvm_order_count.sum()\n",
    "\n",
    "data={'company':['Black', 'Green'], 'orders': [Black, Green]}\n",
    "df1=pd.DataFrame(data)\n",
    "df1=df1.sort_values(by='orders')\n",
    "\n",
    "plt.bar(df1['company'], df1['orders'], color = '#24c8c7')\n",
    "\n",
    "for i in range(df1['orders'].shape[0]):\n",
    "    plt.text(\n",
    "        i, \n",
    "        df1['orders'].iloc[i] / 2,\n",
    "        df1['orders'].iloc[i], \n",
    "        ha = 'center'\n",
    "    )\n",
    "\n",
    "plt.ylabel('Количество заказов')\n",
    "plt.xlabel('Компания')\n",
    "plt.title('Количество успешных заказов')\n",
    "plt.show()"
   ]
  },
  {
   "cell_type": "markdown",
   "id": "fc91cd13",
   "metadata": {},
   "source": [
    "**Вывод :** Моя гипотеза подтвердилась, green молодая компания, которая не набрала еще аудиторию, но только входит на рынок и старается продвигаться за счет маркейтинга и хороших отзыввов ,после успешных заказов"
   ]
  }
 ],
 "metadata": {
  "kernelspec": {
   "display_name": "Python 3 (ipykernel)",
   "language": "python",
   "name": "python3"
  },
  "language_info": {
   "codemirror_mode": {
    "name": "ipython",
    "version": 3
   },
   "file_extension": ".py",
   "mimetype": "text/x-python",
   "name": "python",
   "nbconvert_exporter": "python",
   "pygments_lexer": "ipython3",
   "version": "3.9.13"
  }
 },
 "nbformat": 4,
 "nbformat_minor": 5
}
